{
 "cells": [
  {
   "cell_type": "code",
   "execution_count": 232,
   "id": "99e297bd-9fd0-4dfc-aaf6-f068d7da03be",
   "metadata": {},
   "outputs": [],
   "source": [
    "import pandas as pd\n",
    "import matplotlib.pyplot as plt\n",
    "%matplotlib inline\n",
    "import seaborn as sns\n",
    "import warnings\n",
    "\n",
    "warnings.filterwarnings('ignore')"
   ]
  },
  {
   "cell_type": "code",
   "execution_count": 233,
   "id": "32908472-0d70-4a0f-a1b6-d42028e4f21e",
   "metadata": {},
   "outputs": [],
   "source": [
    "data=pd.read_csv('Train_Data.csv')"
   ]
  },
  {
   "cell_type": "code",
   "execution_count": 234,
   "id": "124f7a9b-b7aa-4b54-81fb-21736c386509",
   "metadata": {},
   "outputs": [
    {
     "data": {
      "text/html": [
       "<div>\n",
       "<style scoped>\n",
       "    .dataframe tbody tr th:only-of-type {\n",
       "        vertical-align: middle;\n",
       "    }\n",
       "\n",
       "    .dataframe tbody tr th {\n",
       "        vertical-align: top;\n",
       "    }\n",
       "\n",
       "    .dataframe thead th {\n",
       "        text-align: right;\n",
       "    }\n",
       "</style>\n",
       "<table border=\"1\" class=\"dataframe\">\n",
       "  <thead>\n",
       "    <tr style=\"text-align: right;\">\n",
       "      <th></th>\n",
       "      <th>SEQN</th>\n",
       "      <th>RIAGENDR</th>\n",
       "      <th>PAQ605</th>\n",
       "      <th>BMXBMI</th>\n",
       "      <th>LBXGLU</th>\n",
       "      <th>DIQ010</th>\n",
       "      <th>LBXGLT</th>\n",
       "      <th>LBXIN</th>\n",
       "      <th>age_group</th>\n",
       "    </tr>\n",
       "  </thead>\n",
       "  <tbody>\n",
       "    <tr>\n",
       "      <th>0</th>\n",
       "      <td>73564.0</td>\n",
       "      <td>2.0</td>\n",
       "      <td>2.0</td>\n",
       "      <td>35.7</td>\n",
       "      <td>110.0</td>\n",
       "      <td>2.0</td>\n",
       "      <td>150.0</td>\n",
       "      <td>14.91</td>\n",
       "      <td>Adult</td>\n",
       "    </tr>\n",
       "    <tr>\n",
       "      <th>1</th>\n",
       "      <td>73568.0</td>\n",
       "      <td>2.0</td>\n",
       "      <td>2.0</td>\n",
       "      <td>20.3</td>\n",
       "      <td>89.0</td>\n",
       "      <td>2.0</td>\n",
       "      <td>80.0</td>\n",
       "      <td>3.85</td>\n",
       "      <td>Adult</td>\n",
       "    </tr>\n",
       "    <tr>\n",
       "      <th>2</th>\n",
       "      <td>73576.0</td>\n",
       "      <td>1.0</td>\n",
       "      <td>2.0</td>\n",
       "      <td>23.2</td>\n",
       "      <td>89.0</td>\n",
       "      <td>2.0</td>\n",
       "      <td>68.0</td>\n",
       "      <td>6.14</td>\n",
       "      <td>Adult</td>\n",
       "    </tr>\n",
       "    <tr>\n",
       "      <th>3</th>\n",
       "      <td>73577.0</td>\n",
       "      <td>1.0</td>\n",
       "      <td>2.0</td>\n",
       "      <td>28.9</td>\n",
       "      <td>104.0</td>\n",
       "      <td>NaN</td>\n",
       "      <td>84.0</td>\n",
       "      <td>16.15</td>\n",
       "      <td>Adult</td>\n",
       "    </tr>\n",
       "    <tr>\n",
       "      <th>4</th>\n",
       "      <td>73580.0</td>\n",
       "      <td>2.0</td>\n",
       "      <td>1.0</td>\n",
       "      <td>35.9</td>\n",
       "      <td>103.0</td>\n",
       "      <td>2.0</td>\n",
       "      <td>81.0</td>\n",
       "      <td>10.92</td>\n",
       "      <td>Adult</td>\n",
       "    </tr>\n",
       "  </tbody>\n",
       "</table>\n",
       "</div>"
      ],
      "text/plain": [
       "      SEQN  RIAGENDR  PAQ605  BMXBMI  LBXGLU  DIQ010  LBXGLT  LBXIN age_group\n",
       "0  73564.0       2.0     2.0    35.7   110.0     2.0   150.0  14.91     Adult\n",
       "1  73568.0       2.0     2.0    20.3    89.0     2.0    80.0   3.85     Adult\n",
       "2  73576.0       1.0     2.0    23.2    89.0     2.0    68.0   6.14     Adult\n",
       "3  73577.0       1.0     2.0    28.9   104.0     NaN    84.0  16.15     Adult\n",
       "4  73580.0       2.0     1.0    35.9   103.0     2.0    81.0  10.92     Adult"
      ]
     },
     "execution_count": 234,
     "metadata": {},
     "output_type": "execute_result"
    }
   ],
   "source": [
    "df = pd.DataFrame(data)\n",
    "df.head()"
   ]
  },
  {
   "cell_type": "code",
   "execution_count": 235,
   "id": "af210541-5bf3-4020-a1d4-c38f2b22c56a",
   "metadata": {},
   "outputs": [
    {
     "data": {
      "text/plain": [
       "Index(['SEQN', 'RIAGENDR', 'PAQ605', 'BMXBMI', 'LBXGLU', 'DIQ010', 'LBXGLT',\n",
       "       'LBXIN', 'age_group'],\n",
       "      dtype='object')"
      ]
     },
     "execution_count": 235,
     "metadata": {},
     "output_type": "execute_result"
    }
   ],
   "source": [
    "df.columns"
   ]
  },
  {
   "cell_type": "code",
   "execution_count": 236,
   "id": "4c89c620-a3a5-40e2-ade1-71f12416831a",
   "metadata": {},
   "outputs": [],
   "source": [
    "# SEQN: identifier\n",
    "# RIAGENDR: gender 1=male, 2=female\n",
    "# PAQ605: physical activity\n",
    "# BMXBMI: bmi\n",
    "# LBXGLU: glucose level\n",
    "# DIQ010: diabetes response\n",
    "# LBXGLT: glucose tolerance\n",
    "# LBXIN: insulin level"
   ]
  },
  {
   "cell_type": "code",
   "execution_count": 237,
   "id": "97ea6350-9bd3-478e-ad48-82c95039577a",
   "metadata": {},
   "outputs": [
    {
     "data": {
      "text/plain": [
       "age_group\n",
       "Adult     0.839139\n",
       "Senior    0.160861\n",
       "Name: proportion, dtype: float64"
      ]
     },
     "execution_count": 237,
     "metadata": {},
     "output_type": "execute_result"
    }
   ],
   "source": [
    "df['age_group'].value_counts(normalize=True)"
   ]
  },
  {
   "cell_type": "code",
   "execution_count": 238,
   "id": "4d409407-ab8f-4a7e-8d61-8c7f0363cb28",
   "metadata": {},
   "outputs": [
    {
     "data": {
      "text/plain": [
       "SEQN         12\n",
       "RIAGENDR     18\n",
       "PAQ605       13\n",
       "BMXBMI       18\n",
       "LBXGLU       13\n",
       "DIQ010       18\n",
       "LBXGLT       11\n",
       "LBXIN         9\n",
       "age_group    14\n",
       "dtype: int64"
      ]
     },
     "execution_count": 238,
     "metadata": {},
     "output_type": "execute_result"
    }
   ],
   "source": [
    "df.isnull().sum()"
   ]
  },
  {
   "cell_type": "code",
   "execution_count": 239,
   "id": "d2554009-4e17-4a46-b2a2-36f887eacffd",
   "metadata": {},
   "outputs": [
    {
     "data": {
      "image/png": "[encoded data removed]",
      "text/plain": [
       "<Figure size 640x480 with 1 Axes>"
      ]
     },
     "metadata": {},
     "output_type": "display_data"
    },
    {
     "data": {
      "image/png": "[encoded data removed]",
      "text/plain": [
       "<Figure size 640x480 with 1 Axes>"
      ]
     },
     "metadata": {},
     "output_type": "display_data"
    },
    {
     "data": {
      "image/png": "[encoded data removed]",
      "text/plain": [
       "<Figure size 640x480 with 1 Axes>"
      ]
     },
     "metadata": {},
     "output_type": "display_data"
    },
    {
     "data": {
      "image/png": "[encoded data removed]",
      "text/plain": [
       "<Figure size 640x480 with 1 Axes>"
      ]
     },
     "metadata": {},
     "output_type": "display_data"
    }
   ],
   "source": [
    "for col in ['BMXBMI','LBXGLU','LBXGLT','LBXIN']:\n",
    "    sns.boxplot(x='age_group', y=col, data=df)\n",
    "    plt.title(f'{col} vs Age Group')\n",
    "    plt.show()"
   ]
  },
  {
   "cell_type": "markdown",
   "id": "74dffe6b-25a2-4f0d-a0db-c0e7660196d3",
   "metadata": {},
   "source": [
    "## Data Processing"
   ]
  },
  {
   "cell_type": "code",
   "execution_count": 240,
   "id": "e1a56248-ed5f-4ba6-8dd5-6c89856787d0",
   "metadata": {},
   "outputs": [],
   "source": [
    "df = df.drop(columns=['SEQN'])"
   ]
  },
  {
   "cell_type": "code",
   "execution_count": 241,
   "id": "0e1361f2-e2ab-4e11-b250-3cbed6e85fc4",
   "metadata": {},
   "outputs": [],
   "source": [
    "df['PAQ605'] = df['PAQ605'].fillna(0)\n",
    "df['DIQ010'] = df['DIQ010'].fillna(0)"
   ]
  },
  {
   "cell_type": "code",
   "execution_count": 242,
   "id": "88b6e18d-3c1a-419a-bd18-da103b6979c8",
   "metadata": {},
   "outputs": [],
   "source": [
    "num_cols = ['BMXBMI', 'LBXGLU', 'LBXGLT', 'LBXIN']\n",
    "\n",
    "for col in num_cols:\n",
    "    if df[col].dtype == 'float_64':\n",
    "        df[col] = df[col].fillna(df[col].median())\n",
    "    else:\n",
    "        df[col] = df[col].fillna(df[col].mode()[0])"
   ]
  },
  {
   "cell_type": "code",
   "execution_count": 243,
   "id": "07c19b82-54e8-4e82-a285-26e16e5f3650",
   "metadata": {},
   "outputs": [],
   "source": [
    "df['RIAGENDR'] = df['RIAGENDR'].fillna(df['RIAGENDR'].mode()[0])"
   ]
  },
  {
   "cell_type": "code",
   "execution_count": 244,
   "id": "06448200-abeb-422a-b0f2-3f1257c2a343",
   "metadata": {},
   "outputs": [],
   "source": [
    "df = pd.get_dummies(df, columns=['RIAGENDR', 'PAQ605', 'DIQ010'], drop_first=False)"
   ]
  },
  {
   "cell_type": "code",
   "execution_count": 245,
   "id": "36426dc6-c78c-4a6a-95fa-e54329022533",
   "metadata": {},
   "outputs": [],
   "source": [
    "df = df[df['age_group'].notna()]"
   ]
  },
  {
   "cell_type": "code",
   "execution_count": 246,
   "id": "d2edede8-ee04-4083-9f5c-5ed760492593",
   "metadata": {},
   "outputs": [],
   "source": [
    "df['age_group'] = df['age_group'].map({'Adult': 0, 'Senior': 1}).astype(int)"
   ]
  },
  {
   "cell_type": "code",
   "execution_count": 247,
   "id": "753e1e8d-46a5-404e-9f98-f31f8ed41af3",
   "metadata": {},
   "outputs": [],
   "source": [
    "import numpy as np\n",
    "\n",
    "df['GLU_DIV_INS'] = df['LBXGLU'] / (df['LBXIN'] + 1e-5)\n",
    "df['log_GLU'] = np.log1p(df['LBXGLU'])\n",
    "df['log_INS'] = np.log1p(df['LBXIN'])"
   ]
  },
  {
   "cell_type": "markdown",
   "id": "ee4ccc2e-60c6-400a-830f-7083652ba1fa",
   "metadata": {},
   "source": [
    "## Train Test Split"
   ]
  },
  {
   "cell_type": "code",
   "execution_count": 248,
   "id": "b3910ace-4943-4c57-aa16-d13c92f4886a",
   "metadata": {},
   "outputs": [],
   "source": [
    "X = df.drop(columns=['age_group'])\n",
    "y = df['age_group']\n",
    "\n",
    "from sklearn.model_selection import train_test_split\n",
    "\n",
    "X_train, X_val, y_train, y_val = train_test_split(\n",
    "    X, y, test_size=0.2, stratify=y, random_state=42\n",
    ")"
   ]
  },
  {
   "cell_type": "code",
   "execution_count": 249,
   "id": "1bfcb9b5-8aec-4b1a-9a47-690f31b256d3",
   "metadata": {},
   "outputs": [],
   "source": [
    "from sklearn.metrics import f1_score, confusion_matrix, classification_report, roc_auc_score\n",
    "\n",
    "def evaluate_model(model, X_val, y_val):\n",
    "    y_pred = model.predict(X_val)\n",
    "    y_prob = model.predict_proba(X_val)[:, 1] if hasattr(model, \"predict_proba\") else None # for auc-roc\n",
    "\n",
    "    print(\"f1 score:\", f1_score(y_val, y_pred))\n",
    "    print(\"\\nconfusion matrix:\\n\", confusion_matrix(y_val, y_pred))\n",
    "    print(\"\\nclassification report:\\n\", classification_report(y_val, y_pred))\n",
    "    if y_prob is not None:\n",
    "        print(\"AUC score:\", roc_auc_score(y_val, y_prob))"
   ]
  },
  {
   "cell_type": "markdown",
   "id": "732acb69-28b4-469e-8f1f-966afb994955",
   "metadata": {},
   "source": [
    "## Training the Model"
   ]
  },
  {
   "cell_type": "code",
   "execution_count": 250,
   "id": "99054031-243b-4d6d-8088-d803233e5423",
   "metadata": {},
   "outputs": [
    {
     "data": {
      "text/plain": [
       "\"\\nfrom lightgbm import LGBMClassifier\\nfrom sklearn.model_selection import GridSearchCV\\n\\nparam_grid = {\\n    'num_leaves': [15, 31],\\n    'max_depth': [-1, 5],\\n    'learning_rate': [0.01, 0.05],\\n    'min_child_samples': [20, 30],\\n    'n_estimators': [100, 200],\\n    'reg_alpha': [0.0, 0.1, 1.0],\\n    'reg_lambda': [0.0, 0.1, 1.0]\\n}\\n\\nlgbm = LGBMClassifier(is_unbalance=True, random_state=42, n_jobs=-1)\\ngrid_lgbm = GridSearchCV(estimator=lgbm, param_grid=param_grid, scoring='f1', cv=5, verbose=1, n_jobs=-1)\\ngrid_lgbm.fit(X_train, y_train)\\nbest_lgbm = grid_lgbm.best_estimator_\\nevaluate_model(best_lgbm, X_val, y_val)\\n\""
      ]
     },
     "execution_count": 250,
     "metadata": {},
     "output_type": "execute_result"
    }
   ],
   "source": [
    "'''\n",
    "from lightgbm import LGBMClassifier\n",
    "from sklearn.model_selection import GridSearchCV\n",
    "\n",
    "param_grid = {\n",
    "    'num_leaves': [15, 31],\n",
    "    'max_depth': [-1, 5],\n",
    "    'learning_rate': [0.01, 0.05],\n",
    "    'min_child_samples': [20, 30],\n",
    "    'n_estimators': [100, 200],\n",
    "    'reg_alpha': [0.0, 0.1, 1.0],\n",
    "    'reg_lambda': [0.0, 0.1, 1.0]\n",
    "}\n",
    "\n",
    "lgbm = LGBMClassifier(is_unbalance=True, random_state=42, n_jobs=-1)\n",
    "grid_lgbm = GridSearchCV(estimator=lgbm, param_grid=param_grid, scoring='f1', cv=5, verbose=1, n_jobs=-1)\n",
    "grid_lgbm.fit(X_train, y_train)\n",
    "best_lgbm = grid_lgbm.best_estimator_\n",
    "evaluate_model(best_lgbm, X_val, y_val)\n",
    "'''"
   ]
  },
  {
   "cell_type": "code",
   "execution_count": 251,
   "id": "acf3acd6-8e17-48a1-a898-9a4e2f41f124",
   "metadata": {},
   "outputs": [
    {
     "name": "stdout",
     "output_type": "stream",
     "text": [
      "Fitting 5 folds for each of 288 candidates, totalling 1440 fits\n",
      "[LightGBM] [Info] Number of positive: 251, number of negative: 1310\n",
      "[LightGBM] [Info] Auto-choosing col-wise multi-threading, the overhead of testing was 0.000619 seconds.\n",
      "You can set `force_col_wise=true` to remove the overhead.\n",
      "[LightGBM] [Info] Total Bins 1326\n",
      "[LightGBM] [Info] Number of data points in the train set: 1561, number of used features: 13\n",
      "[LightGBM] [Info] [binary:BoostFromScore]: pavg=0.160794 -> initscore=-1.652329\n",
      "[LightGBM] [Info] Start training from score -1.652329\n",
      "[LightGBM] [Warning] No further splits with positive gain, best gain: -inf\n",
      "[LightGBM] [Warning] No further splits with positive gain, best gain: -inf\n",
      "[LightGBM] [Warning] No further splits with positive gain, best gain: -inf\n",
      "[LightGBM] [Warning] No further splits with positive gain, best gain: -inf\n",
      "[LightGBM] [Warning] No further splits with positive gain, best gain: -inf\n",
      "[LightGBM] [Warning] No further splits with positive gain, best gain: -inf\n",
      "[LightGBM] [Warning] No further splits with positive gain, best gain: -inf\n",
      "[LightGBM] [Warning] No further splits with positive gain, best gain: -inf\n",
      "[LightGBM] [Warning] No further splits with positive gain, best gain: -inf\n",
      "[LightGBM] [Warning] No further splits with positive gain, best gain: -inf\n",
      "[LightGBM] [Warning] No further splits with positive gain, best gain: -inf\n",
      "[LightGBM] [Warning] No further splits with positive gain, best gain: -inf\n",
      "[LightGBM] [Warning] No further splits with positive gain, best gain: -inf\n",
      "[LightGBM] [Warning] No further splits with positive gain, best gain: -inf\n",
      "[LightGBM] [Warning] No further splits with positive gain, best gain: -inf\n",
      "[LightGBM] [Warning] No further splits with positive gain, best gain: -inf\n",
      "[LightGBM] [Warning] No further splits with positive gain, best gain: -inf\n",
      "[LightGBM] [Warning] No further splits with positive gain, best gain: -inf\n",
      "[LightGBM] [Warning] No further splits with positive gain, best gain: -inf\n",
      "[LightGBM] [Warning] No further splits with positive gain, best gain: -inf\n",
      "[LightGBM] [Warning] No further splits with positive gain, best gain: -inf\n",
      "[LightGBM] [Warning] No further splits with positive gain, best gain: -inf\n",
      "f1 score: 0.3132530120481928\n",
      "\n",
      "confusion matrix:\n",
      " [[251  77]\n",
      " [ 37  26]]\n",
      "\n",
      "classification report:\n",
      "               precision    recall  f1-score   support\n",
      "\n",
      "           0       0.87      0.77      0.81       328\n",
      "           1       0.25      0.41      0.31        63\n",
      "\n",
      "    accuracy                           0.71       391\n",
      "   macro avg       0.56      0.59      0.56       391\n",
      "weighted avg       0.77      0.71      0.73       391\n",
      "\n",
      "AUC score: 0.6802409988385598\n"
     ]
    }
   ],
   "source": [
    "# --- Step 3: Train LightGBM with GridSearchCV ---\n",
    "from lightgbm import LGBMClassifier\n",
    "from sklearn.model_selection import GridSearchCV\n",
    "\n",
    "# Define parameter grid\n",
    "param_grid = {\n",
    "    'num_leaves': [15, 31],\n",
    "    'max_depth': [-1, 5],\n",
    "    'learning_rate': [0.01, 0.05],\n",
    "    'min_child_samples': [20, 30],\n",
    "    'n_estimators': [100, 200],\n",
    "    'reg_alpha': [0.0, 0.1, 1.0],\n",
    "    'reg_lambda': [0.0, 0.1, 1.0]\n",
    "}\n",
    "\n",
    "# Initial LGBMClassifier\n",
    "lgbm = LGBMClassifier(is_unbalance=True, random_state=42, n_jobs=-1)\n",
    "\n",
    "# GridSearchCV\n",
    "grid_lgbm = GridSearchCV(estimator=lgbm, param_grid=param_grid, scoring='f1', cv=5, verbose=1, n_jobs=-1)\n",
    "grid_lgbm.fit(X_train, y_train)\n",
    "\n",
    "# Best model\n",
    "best_lgbm = grid_lgbm.best_estimator_\n",
    "evaluate_model(best_lgbm, X_val, y_val)"
   ]
  },
  {
   "cell_type": "code",
   "execution_count": 252,
   "id": "932f4c80-2627-4579-937d-d211196eed73",
   "metadata": {},
   "outputs": [],
   "source": [
    "# --- Step 4: Get Top N Features from best_lgbm ---\n",
    "importances = pd.Series(best_lgbm.feature_importances_, index=X_train.columns)\n",
    "top_features = importances.sort_values(ascending=False)\n",
    "N = 12  # Changeable depending on performance\n",
    "selected_features = top_features.head(N).index.tolist()\n",
    "\n",
    "X_train_top = X_train[selected_features]\n",
    "X_val_top = X_val[selected_features]"
   ]
  },
  {
   "cell_type": "code",
   "execution_count": 253,
   "id": "85eb3a3d-7d1d-417a-9d28-2ce845070577",
   "metadata": {},
   "outputs": [
    {
     "name": "stdout",
     "output_type": "stream",
     "text": [
      "Fitting 5 folds for each of 12 candidates, totalling 60 fits\n",
      "f1 score: 0.32926829268292684\n",
      "\n",
      "confusion matrix:\n",
      " [[254  74]\n",
      " [ 36  27]]\n",
      "\n",
      "classification report:\n",
      "               precision    recall  f1-score   support\n",
      "\n",
      "           0       0.88      0.77      0.82       328\n",
      "           1       0.27      0.43      0.33        63\n",
      "\n",
      "    accuracy                           0.72       391\n",
      "   macro avg       0.57      0.60      0.58       391\n",
      "weighted avg       0.78      0.72      0.74       391\n",
      "\n",
      "AUC score: 0.6950251645373597\n"
     ]
    }
   ],
   "source": [
    "from sklearn.ensemble import RandomForestClassifier\n",
    "from sklearn.model_selection import GridSearchCV\n",
    "\n",
    "# Hyperparameter grid\n",
    "param_grid_rf = {\n",
    "    'n_estimators': [100, 200],\n",
    "    'max_depth': [5, 10, None],\n",
    "    'min_samples_split': [2, 5],\n",
    "    'class_weight': ['balanced']  # Very important for class imbalance\n",
    "}\n",
    "\n",
    "# RandomForest setup\n",
    "rf = RandomForestClassifier(random_state=42)\n",
    "\n",
    "# Grid search\n",
    "grid_rf = GridSearchCV(rf, param_grid_rf, scoring='f1', cv=5, n_jobs=-1, verbose=1)\n",
    "\n",
    "# Fit on top features (no SMOTE!)\n",
    "grid_rf.fit(X_train_top, y_train)\n",
    "\n",
    "# Get best model\n",
    "best_rf = grid_rf.best_estimator_\n",
    "evaluate_model(best_rf, X_val_top, y_val)"
   ]
  },
  {
   "cell_type": "code",
   "execution_count": 224,
   "id": "8884d4c9-16fd-4449-8274-972be8251fd9",
   "metadata": {},
   "outputs": [
    {
     "name": "stdout",
     "output_type": "stream",
     "text": [
      "[LightGBM] [Info] Number of positive: 1310, number of negative: 1310\n",
      "[LightGBM] [Info] Auto-choosing row-wise multi-threading, the overhead of testing was 0.000360 seconds.\n",
      "You can set `force_row_wise=true` to remove the overhead.\n",
      "And if memory is not enough, you can set `force_col_wise=true`.\n",
      "[LightGBM] [Info] Total Bins 1283\n",
      "[LightGBM] [Info] Number of data points in the train set: 2620, number of used features: 9\n",
      "[LightGBM] [Info] [binary:BoostFromScore]: pavg=0.500000 -> initscore=0.000000\n",
      "[LightGBM] [Warning] No further splits with positive gain, best gain: -inf\n",
      "[LightGBM] [Warning] No further splits with positive gain, best gain: -inf\n",
      "[LightGBM] [Warning] No further splits with positive gain, best gain: -inf\n",
      "[LightGBM] [Warning] No further splits with positive gain, best gain: -inf\n",
      "[LightGBM] [Warning] No further splits with positive gain, best gain: -inf\n",
      "[LightGBM] [Warning] No further splits with positive gain, best gain: -inf\n",
      "[LightGBM] [Warning] No further splits with positive gain, best gain: -inf\n",
      "[LightGBM] [Warning] No further splits with positive gain, best gain: -inf\n",
      "[LightGBM] [Warning] No further splits with positive gain, best gain: -inf\n",
      "[LightGBM] [Warning] No further splits with positive gain, best gain: -inf\n",
      "[LightGBM] [Warning] No further splits with positive gain, best gain: -inf\n",
      "[LightGBM] [Warning] No further splits with positive gain, best gain: -inf\n",
      "[LightGBM] [Warning] No further splits with positive gain, best gain: -inf\n",
      "[LightGBM] [Warning] No further splits with positive gain, best gain: -inf\n",
      "[LightGBM] [Warning] No further splits with positive gain, best gain: -inf\n",
      "f1 score: 0.2911392405063291\n",
      "\n",
      "confusion matrix:\n",
      " [[256  72]\n",
      " [ 40  23]]\n",
      "\n",
      "classification report:\n",
      "               precision    recall  f1-score   support\n",
      "\n",
      "           0       0.86      0.78      0.82       328\n",
      "           1       0.24      0.37      0.29        63\n",
      "\n",
      "    accuracy                           0.71       391\n",
      "   macro avg       0.55      0.57      0.56       391\n",
      "weighted avg       0.76      0.71      0.74       391\n",
      "\n",
      "AUC score: 0.6764179248935347\n"
     ]
    }
   ],
   "source": [
    "# --- Step 5: Retrain best_lgbm on top N features ---\n",
    "lgbm_top = LGBMClassifier(\n",
    "    is_unbalance=True,\n",
    "    random_state=42,\n",
    "    **grid_lgbm.best_params_,\n",
    "    n_jobs=-1\n",
    ")\n",
    "\n",
    "lgbm_top.fit(X_train, y_train)\n",
    "evaluate_model(lgbm_top, X_val_top, y_val)"
   ]
  },
  {
   "cell_type": "markdown",
   "id": "5667fb7c-aa3e-47ab-8055-ec9f39c6668d",
   "metadata": {},
   "source": [
    "## Preparing test data"
   ]
  },
  {
   "cell_type": "code",
   "execution_count": 254,
   "id": "c6db820a-b57f-4a61-882f-4a8966a068cb",
   "metadata": {},
   "outputs": [],
   "source": [
    "test_data = pd.read_csv('Test_Data.csv')"
   ]
  },
  {
   "cell_type": "code",
   "execution_count": 255,
   "id": "28b85543-f053-410c-99aa-b6a79787bcc2",
   "metadata": {},
   "outputs": [
    {
     "data": {
      "text/html": [
       "<div>\n",
       "<style scoped>\n",
       "    .dataframe tbody tr th:only-of-type {\n",
       "        vertical-align: middle;\n",
       "    }\n",
       "\n",
       "    .dataframe tbody tr th {\n",
       "        vertical-align: top;\n",
       "    }\n",
       "\n",
       "    .dataframe thead th {\n",
       "        text-align: right;\n",
       "    }\n",
       "</style>\n",
       "<table border=\"1\" class=\"dataframe\">\n",
       "  <thead>\n",
       "    <tr style=\"text-align: right;\">\n",
       "      <th></th>\n",
       "      <th>SEQN</th>\n",
       "      <th>RIAGENDR</th>\n",
       "      <th>PAQ605</th>\n",
       "      <th>BMXBMI</th>\n",
       "      <th>LBXGLU</th>\n",
       "      <th>DIQ010</th>\n",
       "      <th>LBXGLT</th>\n",
       "      <th>LBXIN</th>\n",
       "    </tr>\n",
       "  </thead>\n",
       "  <tbody>\n",
       "    <tr>\n",
       "      <th>0</th>\n",
       "      <td>77017.0</td>\n",
       "      <td>1.0</td>\n",
       "      <td>1.0</td>\n",
       "      <td>32.2</td>\n",
       "      <td>96.0</td>\n",
       "      <td>2.0</td>\n",
       "      <td>135.0</td>\n",
       "      <td>15.11</td>\n",
       "    </tr>\n",
       "    <tr>\n",
       "      <th>1</th>\n",
       "      <td>75580.0</td>\n",
       "      <td>2.0</td>\n",
       "      <td>2.0</td>\n",
       "      <td>26.3</td>\n",
       "      <td>100.0</td>\n",
       "      <td>2.0</td>\n",
       "      <td>141.0</td>\n",
       "      <td>15.26</td>\n",
       "    </tr>\n",
       "    <tr>\n",
       "      <th>2</th>\n",
       "      <td>73820.0</td>\n",
       "      <td>1.0</td>\n",
       "      <td>2.0</td>\n",
       "      <td>28.6</td>\n",
       "      <td>107.0</td>\n",
       "      <td>2.0</td>\n",
       "      <td>136.0</td>\n",
       "      <td>8.82</td>\n",
       "    </tr>\n",
       "    <tr>\n",
       "      <th>3</th>\n",
       "      <td>80489.0</td>\n",
       "      <td>2.0</td>\n",
       "      <td>1.0</td>\n",
       "      <td>22.1</td>\n",
       "      <td>93.0</td>\n",
       "      <td>2.0</td>\n",
       "      <td>111.0</td>\n",
       "      <td>12.13</td>\n",
       "    </tr>\n",
       "    <tr>\n",
       "      <th>4</th>\n",
       "      <td>82047.0</td>\n",
       "      <td>1.0</td>\n",
       "      <td>1.0</td>\n",
       "      <td>24.7</td>\n",
       "      <td>91.0</td>\n",
       "      <td>2.0</td>\n",
       "      <td>105.0</td>\n",
       "      <td>3.12</td>\n",
       "    </tr>\n",
       "  </tbody>\n",
       "</table>\n",
       "</div>"
      ],
      "text/plain": [
       "      SEQN  RIAGENDR  PAQ605  BMXBMI  LBXGLU  DIQ010  LBXGLT  LBXIN\n",
       "0  77017.0       1.0     1.0    32.2    96.0     2.0   135.0  15.11\n",
       "1  75580.0       2.0     2.0    26.3   100.0     2.0   141.0  15.26\n",
       "2  73820.0       1.0     2.0    28.6   107.0     2.0   136.0   8.82\n",
       "3  80489.0       2.0     1.0    22.1    93.0     2.0   111.0  12.13\n",
       "4  82047.0       1.0     1.0    24.7    91.0     2.0   105.0   3.12"
      ]
     },
     "execution_count": 255,
     "metadata": {},
     "output_type": "execute_result"
    }
   ],
   "source": [
    "test_df = pd.DataFrame(test_data)\n",
    "test_df.head()"
   ]
  },
  {
   "cell_type": "code",
   "execution_count": 256,
   "id": "37aa4507-cb6f-4d62-ab53-e6b76fd07a80",
   "metadata": {},
   "outputs": [],
   "source": [
    "test_df = test_df.drop(columns=['SEQN'])\n",
    "test_df['PAQ605'] = test_df['PAQ605'].fillna(0)\n",
    "test_df['DIQ010'] = test_df['DIQ010'].fillna(0)\n",
    "\n",
    "num_cols = ['BMXBMI', 'LBXGLU', 'LBXGLT', 'LBXIN']\n",
    "\n",
    "num_cols = ['BMXBMI', 'LBXGLU', 'LBXGLT', 'LBXIN']\n",
    "\n",
    "for col in num_cols:\n",
    "    if test_df[col].dtype == 'float_64':\n",
    "        test_df[col] = test_df[col].fillna(test_df[col].median())\n",
    "    else:\n",
    "        test_df[col] = test_df[col].fillna(test_df[col].mode()[0])\n",
    "\n",
    "test_df['RIAGENDR'] = test_df['RIAGENDR'].fillna(test_df['RIAGENDR'].mode()[0])\n",
    "test_df = pd.get_dummies(test_df, columns=['RIAGENDR', 'PAQ605', 'DIQ010'], drop_first=False)\n",
    "\n",
    "test_df['GLU_DIV_INS'] = test_df['LBXGLU'] / (test_df['LBXIN'] + 1e-5)\n",
    "test_df['log_GLU'] = np.log1p(test_df['LBXGLU'])\n",
    "test_df['log_INS'] = np.log1p(test_df['LBXIN'])\n",
    "\n",
    "df, test_df = df.align(test_df, join='left', axis=1, fill_value=0)"
   ]
  },
  {
   "cell_type": "code",
   "execution_count": 257,
   "id": "96ee9499-3a21-491d-b1d1-f8d9c6c1512a",
   "metadata": {},
   "outputs": [],
   "source": [
    "test_top = test_df[selected_features]"
   ]
  },
  {
   "cell_type": "code",
   "execution_count": 258,
   "id": "07ff32b7-f88f-47cb-8da0-f604591a871d",
   "metadata": {},
   "outputs": [],
   "source": [
    "## missing_cols = set(X.columns) - set(test_df.columns)\n",
    "\n",
    "## for col in missing_cols:\n",
    "    ## test_df[col] = 0\n",
    "## test_df = test_df[X.columns]"
   ]
  },
  {
   "cell_type": "code",
   "execution_count": 259,
   "id": "11280644-52ce-4ecf-a02c-578fb50183cb",
   "metadata": {},
   "outputs": [],
   "source": [
    "test_preds = best_rf.predict(test_top)"
   ]
  },
  {
   "cell_type": "code",
   "execution_count": 260,
   "id": "124c96e9-9bfd-4cae-9055-90a06c616afd",
   "metadata": {},
   "outputs": [],
   "source": [
    "submission = pd.DataFrame({'age_group':test_preds})\n",
    "submission.to_csv('new_sub8.csv', index=False)"
   ]
  },
  {
   "cell_type": "code",
   "execution_count": null,
   "id": "db92f0f2-e097-4774-b5a0-528109ec643a",
   "metadata": {},
   "outputs": [],
   "source": []
  }
 ],
 "metadata": {
  "kernelspec": {
   "display_name": "Python [conda env:base] *",
   "language": "python",
   "name": "conda-base-py"
  },
  "language_info": {
   "codemirror_mode": {
    "name": "ipython",
    "version": 3
   },
   "file_extension": ".py",
   "mimetype": "text/x-python",
   "name": "python",
   "nbconvert_exporter": "python",
   "pygments_lexer": "ipython3",
   "version": "3.12.3"
  }
 },
 "nbformat": 4,
 "nbformat_minor": 5
}
